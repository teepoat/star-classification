{
  "cells": [
    {
      "cell_type": "markdown",
      "metadata": {
        "id": "Cy615mX5cdMQ"
      },
      "source": [
        "# Бинарная классификация звезд\n",
        "## **Цель**: создать бинарный классификатор класса звезды (столбец `present`)\n",
        "## **Датасет:** `whole_data_practive3.csv`\n",
        "### <ins>Описание датасета:</ins>\n",
        "| Column Name | Description | Data Type |\n",
        "|-------------|-------------|-----------|\n",
        "| `RAJ2000` | `Right Ascension (J2000)` | `float64` |\n",
        "| `DEJ2000` | `Declination (J2000)` | `float64` |\n",
        "| `nobs` | `Number of observations` | `int64` |\n",
        "| `Vmag` | `V-band magnitude. Brightness of the object as observed visually, by the human eye.` | `float64` |\n",
        "| `e_Vmag` | `Error in V-band magnitude` | `float64` |\n",
        "| `Bmag` | `B-band magnitude. Brightness of the object when viewed through a blue filter` | `float64` |\n",
        "| `e_Bmag` | `Error in B-band magnitude` | `float64` |\n",
        "| `gpmag` | `Gaia G-band magnitude` | `float64` |\n",
        "| `e_gpmag` | `Error in Gaia G-band magnitude` | `float64` |\n",
        "| `rpmag` | `Gaia RP-band magnitude` | `float64` |\n",
        "| `e_rpmag` | `Error in Gaia RP-band magnitude` | `float64` |\n",
        "| `ipmag` | `IP-band magnitude` | `float64` |\n",
        "| `e_ipmag` | `Error in IP-band magnitude` | `float64` |\n",
        "| `fuv_mag` | `FUV magnitude` | `float64` |\n",
        "| `nuv_mag` | `NUV magnitude` | `float64` |\n",
        "| `err` | `-` | `float64` |\n",
        "| `present` | `star class` | `int64` |\n",
        "| `type` | `star type (almost NaN everytime on one of the classes)` | `object` |\n",
        "| `min_mag` | `-` | `float64` |\n",
        "| `max_mag` | `-` | `float64` |"
      ]
    },
    {
      "cell_type": "markdown",
      "metadata": {
        "id": "u_aNolonec3v"
      },
      "source": [
        "# Загрузим датасет и удалим лишние признаки\n",
        "Удаление лишних признаков:\n",
        "- `type` — у одного из классов он практически всегда имеет значение `NaN`, т.е. практически эквивалентен знанию класса звезды.\n",
        "- `nobs` — данный признак указывает на кол-во наблюдений данного объекта. Можно попробовать использовать его как степень доверия к данным, однако много объектов имеют примерно одинаковое число наблюдений, поэтому признак решено отбросить.\n",
        "- `RAJ2000`, `DEJ2000` — это координаты звезды в экваториальной системе на эпоху J2000.0. Сами по себе они не несут информации о физических свойствах звезды, поэтому не могут быть полезными признаками.\n",
        "\n"
      ]
    },
    {
      "cell_type": "code",
      "execution_count": 54,
      "metadata": {
        "_cell_guid": "b1076dfc-b9ad-4769-8c92-a6c4dae69d19",
        "_uuid": "8f2839f25d086af736a60e9eeb907d3b93b6e0e5",
        "colab": {
          "base_uri": "https://localhost:8080/",
          "height": 837
        },
        "execution": {
          "iopub.execute_input": "2025-05-01T13:59:30.597673Z",
          "iopub.status.busy": "2025-05-01T13:59:30.597347Z",
          "iopub.status.idle": "2025-05-01T13:59:33.211408Z",
          "shell.execute_reply": "2025-05-01T13:59:33.210370Z",
          "shell.execute_reply.started": "2025-05-01T13:59:30.597647Z"
        },
        "id": "68ikPgqtOwux",
        "outputId": "e2a53554-d0ed-4527-db04-b8745d19a180",
        "trusted": true
      },
      "outputs": [
        {
          "name": "stdout",
          "output_type": "stream",
          "text": [
            "<class 'pandas.core.frame.DataFrame'>\n",
            "RangeIndex: 64988 entries, 0 to 64987\n",
            "Data columns (total 20 columns):\n",
            " #   Column   Non-Null Count  Dtype  \n",
            "---  ------   --------------  -----  \n",
            " 0   RAJ2000  64988 non-null  float64\n",
            " 1   DEJ2000  64988 non-null  float64\n",
            " 2   nobs     64988 non-null  int64  \n",
            " 3   Vmag     64988 non-null  float64\n",
            " 4   e_Vmag   64988 non-null  float64\n",
            " 5   Bmag     64988 non-null  float64\n",
            " 6   e_Bmag   64988 non-null  float64\n",
            " 7   gpmag    64988 non-null  float64\n",
            " 8   e_gpmag  64988 non-null  float64\n",
            " 9   rpmag    64988 non-null  float64\n",
            " 10  e_rpmag  64988 non-null  float64\n",
            " 11  ipmag    64988 non-null  float64\n",
            " 12  e_ipmag  64988 non-null  float64\n",
            " 13  fuv_mag  64988 non-null  float64\n",
            " 14  nuv_mag  64988 non-null  float64\n",
            " 15  err      64988 non-null  float64\n",
            " 16  present  64988 non-null  int64  \n",
            " 17  type     6517 non-null   object \n",
            " 18  min_mag  64984 non-null  float64\n",
            " 19  max_mag  64984 non-null  float64\n",
            "dtypes: float64(17), int64(2), object(1)\n",
            "memory usage: 9.9+ MB\n"
          ]
        },
        {
          "data": {
            "text/plain": [
              "None"
            ]
          },
          "metadata": {},
          "output_type": "display_data"
        },
        {
          "data": {
            "application/vnd.google.colaboratory.intrinsic+json": {
              "summary": "{\n  \"name\": \"data = data\",\n  \"rows\": 8,\n  \"fields\": [\n    {\n      \"column\": \"RAJ2000\",\n      \"properties\": {\n        \"dtype\": \"number\",\n        \"std\": 22912.550758737656,\n        \"min\": 0.007155,\n        \"max\": 64988.0,\n        \"num_unique_values\": 8,\n        \"samples\": [\n          189.900409731058,\n          168.7774235,\n          64988.0\n        ],\n        \"semantic_type\": \"\",\n        \"description\": \"\"\n      }\n    },\n    {\n      \"column\": \"DEJ2000\",\n      \"properties\": {\n        \"dtype\": \"number\",\n        \"std\": 22974.06001502784,\n        \"min\": -53.300726,\n        \"max\": 64988.0,\n        \"num_unique_values\": 8,\n        \"samples\": [\n          5.7439082879608545,\n          1.5027295,\n          64988.0\n        ],\n        \"semantic_type\": \"\",\n        \"description\": \"\"\n      }\n    },\n    {\n      \"column\": \"nobs\",\n      \"properties\": {\n        \"dtype\": \"number\",\n        \"std\": 22954.269714737355,\n        \"min\": 3.0,\n        \"max\": 64988.0,\n        \"num_unique_values\": 8,\n        \"samples\": [\n          11.43504954760879,\n          5.0,\n          64988.0\n        ],\n        \"semantic_type\": \"\",\n        \"description\": \"\"\n      }\n    },\n    {\n      \"column\": \"Vmag\",\n      \"properties\": {\n        \"dtype\": \"number\",\n        \"std\": 22972.806636124245,\n        \"min\": 1.8847906972429138,\n        \"max\": 64988.0,\n        \"num_unique_values\": 8,\n        \"samples\": [\n          13.051702760509631,\n          12.887,\n          64988.0\n        ],\n        \"semantic_type\": \"\",\n        \"description\": \"\"\n      }\n    },\n    {\n      \"column\": \"e_Vmag\",\n      \"properties\": {\n        \"dtype\": \"number\",\n        \"std\": 22976.58935642609,\n        \"min\": 0.0,\n        \"max\": 64988.0,\n        \"num_unique_values\": 8,\n        \"samples\": [\n          0.050752985166492286,\n          0.039,\n          64988.0\n        ],\n        \"semantic_type\": \"\",\n        \"description\": \"\"\n      }\n    },\n    {\n      \"column\": \"Bmag\",\n      \"properties\": {\n        \"dtype\": \"number\",\n        \"std\": 22972.60053575554,\n        \"min\": 1.9497981116394671,\n        \"max\": 64988.0,\n        \"num_unique_values\": 8,\n        \"samples\": [\n          13.662124161383637,\n          13.434,\n          64988.0\n        ],\n        \"semantic_type\": \"\",\n        \"description\": \"\"\n      }\n    },\n    {\n      \"column\": \"e_Bmag\",\n      \"properties\": {\n        \"dtype\": \"number\",\n        \"std\": 22976.620706652386,\n        \"min\": 0.0,\n        \"max\": 64988.0,\n        \"num_unique_values\": 8,\n        \"samples\": [\n          0.057440558256908976,\n          0.041,\n          64988.0\n        ],\n        \"semantic_type\": \"\",\n        \"description\": \"\"\n      }\n    },\n    {\n      \"column\": \"gpmag\",\n      \"properties\": {\n        \"dtype\": \"number\",\n        \"std\": 22972.7083694087,\n        \"min\": 1.9022686268351918,\n        \"max\": 64988.0,\n        \"num_unique_values\": 8,\n        \"samples\": [\n          13.326147211792946,\n          13.121,\n          64988.0\n        ],\n        \"semantic_type\": \"\",\n        \"description\": \"\"\n      }\n    },\n    {\n      \"column\": \"e_gpmag\",\n      \"properties\": {\n        \"dtype\": \"number\",\n        \"std\": 22976.53287136232,\n        \"min\": 0.0,\n        \"max\": 64988.0,\n        \"num_unique_values\": 8,\n        \"samples\": [\n          0.061010401920354534,\n          0.036,\n          64988.0\n        ],\n        \"semantic_type\": \"\",\n        \"description\": \"\"\n      }\n    },\n    {\n      \"column\": \"rpmag\",\n      \"properties\": {\n        \"dtype\": \"number\",\n        \"std\": 22972.8697741132,\n        \"min\": 1.86588561465065,\n        \"max\": 64988.0,\n        \"num_unique_values\": 8,\n        \"samples\": [\n          12.894450190804456,\n          12.755,\n          64988.0\n        ],\n        \"semantic_type\": \"\",\n        \"description\": \"\"\n      }\n    },\n    {\n      \"column\": \"e_rpmag\",\n      \"properties\": {\n        \"dtype\": \"number\",\n        \"std\": 22976.50768721124,\n        \"min\": 0.0,\n        \"max\": 64988.0,\n        \"num_unique_values\": 8,\n        \"samples\": [\n          0.05263611743706531,\n          0.04,\n          64988.0\n        ],\n        \"semantic_type\": \"\",\n        \"description\": \"\"\n      }\n    },\n    {\n      \"column\": \"ipmag\",\n      \"properties\": {\n        \"dtype\": \"number\",\n        \"std\": 22972.92955408632,\n        \"min\": 1.8380055055796547,\n        \"max\": 64988.0,\n        \"num_unique_values\": 8,\n        \"samples\": [\n          12.748919138917953,\n          12.646,\n          64988.0\n        ],\n        \"semantic_type\": \"\",\n        \"description\": \"\"\n      }\n    },\n    {\n      \"column\": \"e_ipmag\",\n      \"properties\": {\n        \"dtype\": \"number\",\n        \"std\": 22976.574975057985,\n        \"min\": 0.0,\n        \"max\": 64988.0,\n        \"num_unique_values\": 8,\n        \"samples\": [\n          0.08913360928171354,\n          0.058,\n          64988.0\n        ],\n        \"semantic_type\": \"\",\n        \"description\": \"\"\n      }\n    },\n    {\n      \"column\": \"fuv_mag\",\n      \"properties\": {\n        \"dtype\": \"number\",\n        \"std\": 22970.278233679193,\n        \"min\": 1.792885347462606,\n        \"max\": 64988.0,\n        \"num_unique_values\": 8,\n        \"samples\": [\n          22.010903689911984,\n          22.554,\n          64988.0\n        ],\n        \"semantic_type\": \"\",\n        \"description\": \"\"\n      }\n    },\n    {\n      \"column\": \"nuv_mag\",\n      \"properties\": {\n        \"dtype\": \"number\",\n        \"std\": 22971.3309818692,\n        \"min\": 1.9943176737478716,\n        \"max\": 64988.0,\n        \"num_unique_values\": 8,\n        \"samples\": [\n          17.405585877392745,\n          17.098,\n          64988.0\n        ],\n        \"semantic_type\": \"\",\n        \"description\": \"\"\n      }\n    },\n    {\n      \"column\": \"err\",\n      \"properties\": {\n        \"dtype\": \"number\",\n        \"std\": 22976.44288950342,\n        \"min\": 0.0,\n        \"max\": 64988.0,\n        \"num_unique_values\": 8,\n        \"samples\": [\n          0.1726710453026336,\n          0.1270983870865401,\n          64988.0\n        ],\n        \"semantic_type\": \"\",\n        \"description\": \"\"\n      }\n    },\n    {\n      \"column\": \"present\",\n      \"properties\": {\n        \"dtype\": \"number\",\n        \"std\": 22976.656885525168,\n        \"min\": 0.0,\n        \"max\": 64988.0,\n        \"num_unique_values\": 5,\n        \"samples\": [\n          0.1013110112636179,\n          1.0,\n          0.3017424253648866\n        ],\n        \"semantic_type\": \"\",\n        \"description\": \"\"\n      }\n    },\n    {\n      \"column\": \"min_mag\",\n      \"properties\": {\n        \"dtype\": \"number\",\n        \"std\": 22971.33617672744,\n        \"min\": 1.630774648661152,\n        \"max\": 64984.0,\n        \"num_unique_values\": 8,\n        \"samples\": [\n          13.060288871106735,\n          13.22,\n          64984.0\n        ],\n        \"semantic_type\": \"\",\n        \"description\": \"\"\n      }\n    },\n    {\n      \"column\": \"max_mag\",\n      \"properties\": {\n        \"dtype\": \"number\",\n        \"std\": 22972.11481869468,\n        \"min\": 0.001,\n        \"max\": 64984.0,\n        \"num_unique_values\": 8,\n        \"samples\": [\n          9.788630678320816,\n          12.64,\n          64984.0\n        ],\n        \"semantic_type\": \"\",\n        \"description\": \"\"\n      }\n    }\n  ]\n}",
              "type": "dataframe"
            },
            "text/html": [
              "\n",
              "  <div id=\"df-cd8674b3-a6b9-43db-8c4c-fcad6c3dc32b\" class=\"colab-df-container\">\n",
              "    <div>\n",
              "<style scoped>\n",
              "    .dataframe tbody tr th:only-of-type {\n",
              "        vertical-align: middle;\n",
              "    }\n",
              "\n",
              "    .dataframe tbody tr th {\n",
              "        vertical-align: top;\n",
              "    }\n",
              "\n",
              "    .dataframe thead th {\n",
              "        text-align: right;\n",
              "    }\n",
              "</style>\n",
              "<table border=\"1\" class=\"dataframe\">\n",
              "  <thead>\n",
              "    <tr style=\"text-align: right;\">\n",
              "      <th></th>\n",
              "      <th>RAJ2000</th>\n",
              "      <th>DEJ2000</th>\n",
              "      <th>nobs</th>\n",
              "      <th>Vmag</th>\n",
              "      <th>e_Vmag</th>\n",
              "      <th>Bmag</th>\n",
              "      <th>e_Bmag</th>\n",
              "      <th>gpmag</th>\n",
              "      <th>e_gpmag</th>\n",
              "      <th>rpmag</th>\n",
              "      <th>e_rpmag</th>\n",
              "      <th>ipmag</th>\n",
              "      <th>e_ipmag</th>\n",
              "      <th>fuv_mag</th>\n",
              "      <th>nuv_mag</th>\n",
              "      <th>err</th>\n",
              "      <th>present</th>\n",
              "      <th>min_mag</th>\n",
              "      <th>max_mag</th>\n",
              "    </tr>\n",
              "  </thead>\n",
              "  <tbody>\n",
              "    <tr>\n",
              "      <th>count</th>\n",
              "      <td>64988.000000</td>\n",
              "      <td>64988.000000</td>\n",
              "      <td>64988.000000</td>\n",
              "      <td>64988.000000</td>\n",
              "      <td>64988.000000</td>\n",
              "      <td>64988.000000</td>\n",
              "      <td>64988.000000</td>\n",
              "      <td>64988.000000</td>\n",
              "      <td>64988.000000</td>\n",
              "      <td>64988.000000</td>\n",
              "      <td>64988.000000</td>\n",
              "      <td>64988.000000</td>\n",
              "      <td>64988.000000</td>\n",
              "      <td>64988.000000</td>\n",
              "      <td>64988.000000</td>\n",
              "      <td>64988.000000</td>\n",
              "      <td>64988.000000</td>\n",
              "      <td>64984.000000</td>\n",
              "      <td>64984.000000</td>\n",
              "    </tr>\n",
              "    <tr>\n",
              "      <th>mean</th>\n",
              "      <td>189.900410</td>\n",
              "      <td>5.743908</td>\n",
              "      <td>11.435050</td>\n",
              "      <td>13.051703</td>\n",
              "      <td>0.050753</td>\n",
              "      <td>13.662124</td>\n",
              "      <td>0.057441</td>\n",
              "      <td>13.326147</td>\n",
              "      <td>0.061010</td>\n",
              "      <td>12.894450</td>\n",
              "      <td>0.052636</td>\n",
              "      <td>12.748919</td>\n",
              "      <td>0.089134</td>\n",
              "      <td>22.010904</td>\n",
              "      <td>17.405586</td>\n",
              "      <td>0.172671</td>\n",
              "      <td>0.101311</td>\n",
              "      <td>13.060289</td>\n",
              "      <td>9.788631</td>\n",
              "    </tr>\n",
              "    <tr>\n",
              "      <th>std</th>\n",
              "      <td>117.334916</td>\n",
              "      <td>20.524489</td>\n",
              "      <td>34.727653</td>\n",
              "      <td>1.884791</td>\n",
              "      <td>0.053581</td>\n",
              "      <td>1.949798</td>\n",
              "      <td>0.064043</td>\n",
              "      <td>1.902269</td>\n",
              "      <td>0.101006</td>\n",
              "      <td>1.865886</td>\n",
              "      <td>0.068216</td>\n",
              "      <td>1.838006</td>\n",
              "      <td>0.134957</td>\n",
              "      <td>1.792885</td>\n",
              "      <td>1.994318</td>\n",
              "      <td>0.174754</td>\n",
              "      <td>0.301742</td>\n",
              "      <td>1.630775</td>\n",
              "      <td>5.841919</td>\n",
              "    </tr>\n",
              "    <tr>\n",
              "      <th>min</th>\n",
              "      <td>0.007155</td>\n",
              "      <td>-53.300726</td>\n",
              "      <td>3.000000</td>\n",
              "      <td>6.122000</td>\n",
              "      <td>0.000000</td>\n",
              "      <td>6.673000</td>\n",
              "      <td>0.000000</td>\n",
              "      <td>6.563000</td>\n",
              "      <td>0.000000</td>\n",
              "      <td>5.741000</td>\n",
              "      <td>0.000000</td>\n",
              "      <td>4.557000</td>\n",
              "      <td>0.000000</td>\n",
              "      <td>11.961000</td>\n",
              "      <td>11.226000</td>\n",
              "      <td>0.000000</td>\n",
              "      <td>0.000000</td>\n",
              "      <td>5.010000</td>\n",
              "      <td>0.001000</td>\n",
              "    </tr>\n",
              "    <tr>\n",
              "      <th>25%</th>\n",
              "      <td>117.916037</td>\n",
              "      <td>-3.589013</td>\n",
              "      <td>4.000000</td>\n",
              "      <td>11.656000</td>\n",
              "      <td>0.023000</td>\n",
              "      <td>12.225000</td>\n",
              "      <td>0.025000</td>\n",
              "      <td>11.903000</td>\n",
              "      <td>0.022000</td>\n",
              "      <td>11.517000</td>\n",
              "      <td>0.024000</td>\n",
              "      <td>11.413000</td>\n",
              "      <td>0.031000</td>\n",
              "      <td>21.269000</td>\n",
              "      <td>16.086000</td>\n",
              "      <td>0.087936</td>\n",
              "      <td>0.000000</td>\n",
              "      <td>12.040000</td>\n",
              "      <td>0.740000</td>\n",
              "    </tr>\n",
              "    <tr>\n",
              "      <th>50%</th>\n",
              "      <td>168.777423</td>\n",
              "      <td>1.502730</td>\n",
              "      <td>5.000000</td>\n",
              "      <td>12.887000</td>\n",
              "      <td>0.039000</td>\n",
              "      <td>13.434000</td>\n",
              "      <td>0.041000</td>\n",
              "      <td>13.121000</td>\n",
              "      <td>0.036000</td>\n",
              "      <td>12.755000</td>\n",
              "      <td>0.040000</td>\n",
              "      <td>12.646000</td>\n",
              "      <td>0.058000</td>\n",
              "      <td>22.554000</td>\n",
              "      <td>17.098000</td>\n",
              "      <td>0.127098</td>\n",
              "      <td>0.000000</td>\n",
              "      <td>13.220000</td>\n",
              "      <td>12.640000</td>\n",
              "    </tr>\n",
              "    <tr>\n",
              "      <th>75%</th>\n",
              "      <td>322.452068</td>\n",
              "      <td>13.339830</td>\n",
              "      <td>7.000000</td>\n",
              "      <td>14.579000</td>\n",
              "      <td>0.063000</td>\n",
              "      <td>15.142250</td>\n",
              "      <td>0.068000</td>\n",
              "      <td>14.826000</td>\n",
              "      <td>0.060000</td>\n",
              "      <td>14.412000</td>\n",
              "      <td>0.064000</td>\n",
              "      <td>14.247000</td>\n",
              "      <td>0.097000</td>\n",
              "      <td>23.283000</td>\n",
              "      <td>18.435000</td>\n",
              "      <td>0.189806</td>\n",
              "      <td>0.000000</td>\n",
              "      <td>14.200000</td>\n",
              "      <td>13.870000</td>\n",
              "    </tr>\n",
              "    <tr>\n",
              "      <th>max</th>\n",
              "      <td>359.995160</td>\n",
              "      <td>69.080703</td>\n",
              "      <td>387.000000</td>\n",
              "      <td>17.464000</td>\n",
              "      <td>2.511000</td>\n",
              "      <td>18.640000</td>\n",
              "      <td>1.864000</td>\n",
              "      <td>17.949000</td>\n",
              "      <td>3.579000</td>\n",
              "      <td>17.209000</td>\n",
              "      <td>4.109000</td>\n",
              "      <td>17.762000</td>\n",
              "      <td>2.615000</td>\n",
              "      <td>24.849000</td>\n",
              "      <td>24.624000</td>\n",
              "      <td>4.888841</td>\n",
              "      <td>1.000000</td>\n",
              "      <td>19.600000</td>\n",
              "      <td>20.470000</td>\n",
              "    </tr>\n",
              "  </tbody>\n",
              "</table>\n",
              "</div>\n",
              "    <div class=\"colab-df-buttons\">\n",
              "\n",
              "  <div class=\"colab-df-container\">\n",
              "    <button class=\"colab-df-convert\" onclick=\"convertToInteractive('df-cd8674b3-a6b9-43db-8c4c-fcad6c3dc32b')\"\n",
              "            title=\"Convert this dataframe to an interactive table.\"\n",
              "            style=\"display:none;\">\n",
              "\n",
              "  <svg xmlns=\"http://www.w3.org/2000/svg\" height=\"24px\" viewBox=\"0 -960 960 960\">\n",
              "    <path d=\"M120-120v-720h720v720H120Zm60-500h600v-160H180v160Zm220 220h160v-160H400v160Zm0 220h160v-160H400v160ZM180-400h160v-160H180v160Zm440 0h160v-160H620v160ZM180-180h160v-160H180v160Zm440 0h160v-160H620v160Z\"/>\n",
              "  </svg>\n",
              "    </button>\n",
              "\n",
              "  <style>\n",
              "    .colab-df-container {\n",
              "      display:flex;\n",
              "      gap: 12px;\n",
              "    }\n",
              "\n",
              "    .colab-df-convert {\n",
              "      background-color: #E8F0FE;\n",
              "      border: none;\n",
              "      border-radius: 50%;\n",
              "      cursor: pointer;\n",
              "      display: none;\n",
              "      fill: #1967D2;\n",
              "      height: 32px;\n",
              "      padding: 0 0 0 0;\n",
              "      width: 32px;\n",
              "    }\n",
              "\n",
              "    .colab-df-convert:hover {\n",
              "      background-color: #E2EBFA;\n",
              "      box-shadow: 0px 1px 2px rgba(60, 64, 67, 0.3), 0px 1px 3px 1px rgba(60, 64, 67, 0.15);\n",
              "      fill: #174EA6;\n",
              "    }\n",
              "\n",
              "    .colab-df-buttons div {\n",
              "      margin-bottom: 4px;\n",
              "    }\n",
              "\n",
              "    [theme=dark] .colab-df-convert {\n",
              "      background-color: #3B4455;\n",
              "      fill: #D2E3FC;\n",
              "    }\n",
              "\n",
              "    [theme=dark] .colab-df-convert:hover {\n",
              "      background-color: #434B5C;\n",
              "      box-shadow: 0px 1px 3px 1px rgba(0, 0, 0, 0.15);\n",
              "      filter: drop-shadow(0px 1px 2px rgba(0, 0, 0, 0.3));\n",
              "      fill: #FFFFFF;\n",
              "    }\n",
              "  </style>\n",
              "\n",
              "    <script>\n",
              "      const buttonEl =\n",
              "        document.querySelector('#df-cd8674b3-a6b9-43db-8c4c-fcad6c3dc32b button.colab-df-convert');\n",
              "      buttonEl.style.display =\n",
              "        google.colab.kernel.accessAllowed ? 'block' : 'none';\n",
              "\n",
              "      async function convertToInteractive(key) {\n",
              "        const element = document.querySelector('#df-cd8674b3-a6b9-43db-8c4c-fcad6c3dc32b');\n",
              "        const dataTable =\n",
              "          await google.colab.kernel.invokeFunction('convertToInteractive',\n",
              "                                                    [key], {});\n",
              "        if (!dataTable) return;\n",
              "\n",
              "        const docLinkHtml = 'Like what you see? Visit the ' +\n",
              "          '<a target=\"_blank\" href=https://colab.research.google.com/notebooks/data_table.ipynb>data table notebook</a>'\n",
              "          + ' to learn more about interactive tables.';\n",
              "        element.innerHTML = '';\n",
              "        dataTable['output_type'] = 'display_data';\n",
              "        await google.colab.output.renderOutput(dataTable, element);\n",
              "        const docLink = document.createElement('div');\n",
              "        docLink.innerHTML = docLinkHtml;\n",
              "        element.appendChild(docLink);\n",
              "      }\n",
              "    </script>\n",
              "  </div>\n",
              "\n",
              "\n",
              "    <div id=\"df-46118ecb-c588-4d8f-99b7-ba5dcd678ef7\">\n",
              "      <button class=\"colab-df-quickchart\" onclick=\"quickchart('df-46118ecb-c588-4d8f-99b7-ba5dcd678ef7')\"\n",
              "                title=\"Suggest charts\"\n",
              "                style=\"display:none;\">\n",
              "\n",
              "<svg xmlns=\"http://www.w3.org/2000/svg\" height=\"24px\"viewBox=\"0 0 24 24\"\n",
              "     width=\"24px\">\n",
              "    <g>\n",
              "        <path d=\"M19 3H5c-1.1 0-2 .9-2 2v14c0 1.1.9 2 2 2h14c1.1 0 2-.9 2-2V5c0-1.1-.9-2-2-2zM9 17H7v-7h2v7zm4 0h-2V7h2v10zm4 0h-2v-4h2v4z\"/>\n",
              "    </g>\n",
              "</svg>\n",
              "      </button>\n",
              "\n",
              "<style>\n",
              "  .colab-df-quickchart {\n",
              "      --bg-color: #E8F0FE;\n",
              "      --fill-color: #1967D2;\n",
              "      --hover-bg-color: #E2EBFA;\n",
              "      --hover-fill-color: #174EA6;\n",
              "      --disabled-fill-color: #AAA;\n",
              "      --disabled-bg-color: #DDD;\n",
              "  }\n",
              "\n",
              "  [theme=dark] .colab-df-quickchart {\n",
              "      --bg-color: #3B4455;\n",
              "      --fill-color: #D2E3FC;\n",
              "      --hover-bg-color: #434B5C;\n",
              "      --hover-fill-color: #FFFFFF;\n",
              "      --disabled-bg-color: #3B4455;\n",
              "      --disabled-fill-color: #666;\n",
              "  }\n",
              "\n",
              "  .colab-df-quickchart {\n",
              "    background-color: var(--bg-color);\n",
              "    border: none;\n",
              "    border-radius: 50%;\n",
              "    cursor: pointer;\n",
              "    display: none;\n",
              "    fill: var(--fill-color);\n",
              "    height: 32px;\n",
              "    padding: 0;\n",
              "    width: 32px;\n",
              "  }\n",
              "\n",
              "  .colab-df-quickchart:hover {\n",
              "    background-color: var(--hover-bg-color);\n",
              "    box-shadow: 0 1px 2px rgba(60, 64, 67, 0.3), 0 1px 3px 1px rgba(60, 64, 67, 0.15);\n",
              "    fill: var(--button-hover-fill-color);\n",
              "  }\n",
              "\n",
              "  .colab-df-quickchart-complete:disabled,\n",
              "  .colab-df-quickchart-complete:disabled:hover {\n",
              "    background-color: var(--disabled-bg-color);\n",
              "    fill: var(--disabled-fill-color);\n",
              "    box-shadow: none;\n",
              "  }\n",
              "\n",
              "  .colab-df-spinner {\n",
              "    border: 2px solid var(--fill-color);\n",
              "    border-color: transparent;\n",
              "    border-bottom-color: var(--fill-color);\n",
              "    animation:\n",
              "      spin 1s steps(1) infinite;\n",
              "  }\n",
              "\n",
              "  @keyframes spin {\n",
              "    0% {\n",
              "      border-color: transparent;\n",
              "      border-bottom-color: var(--fill-color);\n",
              "      border-left-color: var(--fill-color);\n",
              "    }\n",
              "    20% {\n",
              "      border-color: transparent;\n",
              "      border-left-color: var(--fill-color);\n",
              "      border-top-color: var(--fill-color);\n",
              "    }\n",
              "    30% {\n",
              "      border-color: transparent;\n",
              "      border-left-color: var(--fill-color);\n",
              "      border-top-color: var(--fill-color);\n",
              "      border-right-color: var(--fill-color);\n",
              "    }\n",
              "    40% {\n",
              "      border-color: transparent;\n",
              "      border-right-color: var(--fill-color);\n",
              "      border-top-color: var(--fill-color);\n",
              "    }\n",
              "    60% {\n",
              "      border-color: transparent;\n",
              "      border-right-color: var(--fill-color);\n",
              "    }\n",
              "    80% {\n",
              "      border-color: transparent;\n",
              "      border-right-color: var(--fill-color);\n",
              "      border-bottom-color: var(--fill-color);\n",
              "    }\n",
              "    90% {\n",
              "      border-color: transparent;\n",
              "      border-bottom-color: var(--fill-color);\n",
              "    }\n",
              "  }\n",
              "</style>\n",
              "\n",
              "      <script>\n",
              "        async function quickchart(key) {\n",
              "          const quickchartButtonEl =\n",
              "            document.querySelector('#' + key + ' button');\n",
              "          quickchartButtonEl.disabled = true;  // To prevent multiple clicks.\n",
              "          quickchartButtonEl.classList.add('colab-df-spinner');\n",
              "          try {\n",
              "            const charts = await google.colab.kernel.invokeFunction(\n",
              "                'suggestCharts', [key], {});\n",
              "          } catch (error) {\n",
              "            console.error('Error during call to suggestCharts:', error);\n",
              "          }\n",
              "          quickchartButtonEl.classList.remove('colab-df-spinner');\n",
              "          quickchartButtonEl.classList.add('colab-df-quickchart-complete');\n",
              "        }\n",
              "        (() => {\n",
              "          let quickchartButtonEl =\n",
              "            document.querySelector('#df-46118ecb-c588-4d8f-99b7-ba5dcd678ef7 button');\n",
              "          quickchartButtonEl.style.display =\n",
              "            google.colab.kernel.accessAllowed ? 'block' : 'none';\n",
              "        })();\n",
              "      </script>\n",
              "    </div>\n",
              "    </div>\n",
              "  </div>\n"
            ],
            "text/plain": [
              "            RAJ2000       DEJ2000          nobs          Vmag        e_Vmag  \\\n",
              "count  64988.000000  64988.000000  64988.000000  64988.000000  64988.000000   \n",
              "mean     189.900410      5.743908     11.435050     13.051703      0.050753   \n",
              "std      117.334916     20.524489     34.727653      1.884791      0.053581   \n",
              "min        0.007155    -53.300726      3.000000      6.122000      0.000000   \n",
              "25%      117.916037     -3.589013      4.000000     11.656000      0.023000   \n",
              "50%      168.777423      1.502730      5.000000     12.887000      0.039000   \n",
              "75%      322.452068     13.339830      7.000000     14.579000      0.063000   \n",
              "max      359.995160     69.080703    387.000000     17.464000      2.511000   \n",
              "\n",
              "               Bmag        e_Bmag         gpmag       e_gpmag         rpmag  \\\n",
              "count  64988.000000  64988.000000  64988.000000  64988.000000  64988.000000   \n",
              "mean      13.662124      0.057441     13.326147      0.061010     12.894450   \n",
              "std        1.949798      0.064043      1.902269      0.101006      1.865886   \n",
              "min        6.673000      0.000000      6.563000      0.000000      5.741000   \n",
              "25%       12.225000      0.025000     11.903000      0.022000     11.517000   \n",
              "50%       13.434000      0.041000     13.121000      0.036000     12.755000   \n",
              "75%       15.142250      0.068000     14.826000      0.060000     14.412000   \n",
              "max       18.640000      1.864000     17.949000      3.579000     17.209000   \n",
              "\n",
              "            e_rpmag         ipmag       e_ipmag       fuv_mag       nuv_mag  \\\n",
              "count  64988.000000  64988.000000  64988.000000  64988.000000  64988.000000   \n",
              "mean       0.052636     12.748919      0.089134     22.010904     17.405586   \n",
              "std        0.068216      1.838006      0.134957      1.792885      1.994318   \n",
              "min        0.000000      4.557000      0.000000     11.961000     11.226000   \n",
              "25%        0.024000     11.413000      0.031000     21.269000     16.086000   \n",
              "50%        0.040000     12.646000      0.058000     22.554000     17.098000   \n",
              "75%        0.064000     14.247000      0.097000     23.283000     18.435000   \n",
              "max        4.109000     17.762000      2.615000     24.849000     24.624000   \n",
              "\n",
              "                err       present       min_mag       max_mag  \n",
              "count  64988.000000  64988.000000  64984.000000  64984.000000  \n",
              "mean       0.172671      0.101311     13.060289      9.788631  \n",
              "std        0.174754      0.301742      1.630775      5.841919  \n",
              "min        0.000000      0.000000      5.010000      0.001000  \n",
              "25%        0.087936      0.000000     12.040000      0.740000  \n",
              "50%        0.127098      0.000000     13.220000     12.640000  \n",
              "75%        0.189806      0.000000     14.200000     13.870000  \n",
              "max        4.888841      1.000000     19.600000     20.470000  "
            ]
          },
          "metadata": {},
          "output_type": "display_data"
        }
      ],
      "source": [
        "import pandas as pd\n",
        "import seaborn as sns\n",
        "import matplotlib.pyplot as plt\n",
        "\n",
        "\n",
        "\n",
        "PATH_TO_DATA = \"/content/whole_data_practice3.csv\"\n",
        "\n",
        "data = pd.read_csv(PATH_TO_DATA)\n",
        "display(data.info())\n",
        "display(data.describe())\n",
        "data = data.drop(columns=[\n",
        "    \"type\", # gives information about classes :(\n",
        "    \"nobs\", # useless data\n",
        "    \"RAJ2000\", \"DEJ2000\" # coordinates shouldn't depict stars\n",
        "                         ])\n",
        "data = data.dropna() # удалим 4 NaN строки"
      ]
    },
    {
      "cell_type": "markdown",
      "metadata": {
        "id": "xQrZ0oZmhajy"
      },
      "source": [
        "# Визуализация\n",
        "Визуализация проводится для всего датасета\n",
        "# Матрица корреляций. Поиск зависимостей\n",
        "Построим матрицу корреляций"
      ]
    },
    {
      "cell_type": "code",
      "execution_count": null,
      "metadata": {
        "colab": {
          "base_uri": "https://localhost:8080/",
          "height": 1000
        },
        "id": "vOr9nfjlhcZT",
        "outputId": "f68211d4-45c0-4a27-93ac-d7c2f984c4f2"
      },
      "outputs": [
        {
          "data": {
            "image/png": "[encoded data removed]",
            "text/plain": [
              "<Figure size 2000x1600 with 2 Axes>"
            ]
          },
          "metadata": {},
          "output_type": "display_data"
        }
      ],
      "source": [
        "SIZE = 2 # matrix size\n",
        "\n",
        "corr_matrix = data.corr()\n",
        "plt.figure(figsize=(10 * SIZE, 8 * SIZE))\n",
        "\n",
        "sns.heatmap(corr_matrix, annot = True)\n",
        "plt.show()"
      ]
    },
    {
      "cell_type": "markdown",
      "metadata": {
        "id": "vwf5caCojHGd"
      },
      "source": [
        "# Вывод\n",
        "Признаки `Vmag`, `Bmag`, `gpmag`, `rpmag`, `ipmag` сильно скоррелированны. Это дает повод обратить на них внимание. Практика показала, что модели лучше всего обучаются, когда данные признаки смешиваются в один"
      ]
    },
    {
      "cell_type": "code",
      "execution_count": 55,
      "metadata": {
        "id": "wBE5RP21jj17"
      },
      "outputs": [],
      "source": [
        "# Следующие процедуры можно провести на исходном датасете, так как это равносильно тем же преобразованиям на тестовой и обучающей выборках отдельно\n",
        "# data[\"B-V\"] = data[\"Bmag\"] - data[\"Vmag\"]\n",
        "# data[\"GP-RP\"] = data[\"gpmag\"] - data[\"rpmag\"]\n",
        "# data[\"RP-IP\"] = data[\"rpmag\"] - data[\"ipmag\"]\n",
        "# data[\"NUV-FUV\"] = data[\"fuv_mag\"] - data[\"nuv_mag\"]\n",
        "data[\"Corr\"] = data[[\"Vmag\", \"Bmag\", \"gpmag\", \"rpmag\", \"ipmag\"]].sum(axis=1)\n",
        "\n",
        "data = data.drop(columns=[\n",
        "    \"Vmag\", \"Bmag\", \"gpmag\", \"rpmag\", \"ipmag\",\n",
        "    \"e_Vmag\", \"e_Bmag\", \"e_gpmag\", \"e_rpmag\", \"e_ipmag\", # Не знаю, что с этим делать\n",
        "    # \"err\", \"max_mag\", \"min_mag\", # мб нужно мб нет\n",
        "                         ])"
      ]
    },
    {
      "cell_type": "markdown",
      "metadata": {
        "id": "JLpirbFBk2zM"
      },
      "source": [
        "# Pairplot. Поиск зависимостей\n",
        "Построим графики плотностей распределения признаков и их зависимости друг от друга. Заметим интересные зависимости между `RAJ2000` и `DEJ2000`?????, однако поймем, что нигде не наблюдается четкого отделения классов друг от друга. Скорее всего, основной проблемой является дисбаланас классов, с которым мы разберемся позже"
      ]
    },
    {
      "cell_type": "code",
      "execution_count": null,
      "metadata": {
        "colab": {
          "base_uri": "https://localhost:8080/",
          "height": 375
        },
        "id": "Mg-KaeRjkzPF",
        "outputId": "aecccbb9-67f2-4103-f443-2309e6e25eb9"
      },
      "outputs": [],
      "source": [
        "# data_temp = data[[\"present\", \"RAJ2000\", \"DEJ2000\"]]\n",
        "# sns.pairplot(data_temp, hue=\"present\")\n",
        "# plt.show()\n",
        "# data_temp = data[[\"present\", \"Vmag\", \"e_Vmag\"]]\n",
        "# sns.pairplot(data_temp, hue=\"present\")\n",
        "plt.show()\n",
        "data_temp = data[[\"present\", \"Bmag\", \"e_Bmag\"]]\n",
        "sns.pairplot(data_temp, hue=\"present\")\n",
        "plt.show()\n",
        "data_temp = data[[\"present\", \"gpmag\", \"e_gpmag\"]]\n",
        "sns.pairplot(data_temp, hue=\"present\")\n",
        "plt.show()\n",
        "data_temp = data[[\"present\", \"rpmag\", \"e_rpmag\"]]\n",
        "sns.pairplot(data_temp, hue=\"present\")\n",
        "plt.show()\n",
        "data_temp = data[[\"present\", \"ipmag\", \"e_ipmag\"]]\n",
        "sns.pairplot(data_temp, hue=\"present\")\n",
        "plt.show()\n"
      ]
    },
    {
      "cell_type": "markdown",
      "metadata": {
        "id": "Nc-ugfkimID4"
      },
      "source": [
        "# Посмотрим на датасет ещё раз"
      ]
    },
    {
      "cell_type": "code",
      "execution_count": 56,
      "metadata": {
        "colab": {
          "base_uri": "https://localhost:8080/",
          "height": 577
        },
        "id": "4NpcqNCRmK90",
        "outputId": "932a9ee1-02a7-4129-af1f-186a5edf821c"
      },
      "outputs": [
        {
          "name": "stdout",
          "output_type": "stream",
          "text": [
            "<class 'pandas.core.frame.DataFrame'>\n",
            "Index: 64984 entries, 4 to 64987\n",
            "Data columns (total 7 columns):\n",
            " #   Column   Non-Null Count  Dtype  \n",
            "---  ------   --------------  -----  \n",
            " 0   fuv_mag  64984 non-null  float64\n",
            " 1   nuv_mag  64984 non-null  float64\n",
            " 2   err      64984 non-null  float64\n",
            " 3   present  64984 non-null  int64  \n",
            " 4   min_mag  64984 non-null  float64\n",
            " 5   max_mag  64984 non-null  float64\n",
            " 6   Corr     64984 non-null  float64\n",
            "dtypes: float64(6), int64(1)\n",
            "memory usage: 4.0 MB\n"
          ]
        },
        {
          "data": {
            "text/plain": [
              "None"
            ]
          },
          "metadata": {},
          "output_type": "display_data"
        },
        {
          "data": {
            "application/vnd.google.colaboratory.intrinsic+json": {
              "summary": "{\n  \"name\": \"display(data\",\n  \"rows\": 8,\n  \"fields\": [\n    {\n      \"column\": \"fuv_mag\",\n      \"properties\": {\n        \"dtype\": \"number\",\n        \"std\": 22968.8640233313,\n        \"min\": 1.792901318181442,\n        \"max\": 64984.0,\n        \"num_unique_values\": 8,\n        \"samples\": [\n          22.01082560322541,\n          22.554,\n          64984.0\n        ],\n        \"semantic_type\": \"\",\n        \"description\": \"\"\n      }\n    },\n    {\n      \"column\": \"nuv_mag\",\n      \"properties\": {\n        \"dtype\": \"number\",\n        \"std\": 22969.916766916715,\n        \"min\": 1.9943483808263742,\n        \"max\": 64984.0,\n        \"num_unique_values\": 8,\n        \"samples\": [\n          17.405583774467562,\n          17.098,\n          64984.0\n        ],\n        \"semantic_type\": \"\",\n        \"description\": \"\"\n      }\n    },\n    {\n      \"column\": \"err\",\n      \"properties\": {\n        \"dtype\": \"number\",\n        \"std\": 22975.091927129797,\n        \"min\": 0.0,\n        \"max\": 64984.0,\n        \"num_unique_values\": 8,\n        \"samples\": [\n          0.1724265749806942,\n          0.1270924859939824,\n          64984.0\n        ],\n        \"semantic_type\": \"\",\n        \"description\": \"\"\n      }\n    },\n    {\n      \"column\": \"present\",\n      \"properties\": {\n        \"dtype\": \"number\",\n        \"std\": 22975.242671231816,\n        \"min\": 0.0,\n        \"max\": 64984.0,\n        \"num_unique_values\": 5,\n        \"samples\": [\n          0.10131724732241783,\n          1.0,\n          0.3017506650941092\n        ],\n        \"semantic_type\": \"\",\n        \"description\": \"\"\n      }\n    },\n    {\n      \"column\": \"min_mag\",\n      \"properties\": {\n        \"dtype\": \"number\",\n        \"std\": 22971.33617672744,\n        \"min\": 1.630774648661152,\n        \"max\": 64984.0,\n        \"num_unique_values\": 8,\n        \"samples\": [\n          13.060288871106733,\n          13.22,\n          64984.0\n        ],\n        \"semantic_type\": \"\",\n        \"description\": \"\"\n      }\n    },\n    {\n      \"column\": \"max_mag\",\n      \"properties\": {\n        \"dtype\": \"number\",\n        \"std\": 22972.11481869468,\n        \"min\": 0.001,\n        \"max\": 64984.0,\n        \"num_unique_values\": 8,\n        \"samples\": [\n          9.788630678320816,\n          12.64,\n          64984.0\n        ],\n        \"semantic_type\": \"\",\n        \"description\": \"\"\n      }\n    },\n    {\n      \"column\": \"Corr\",\n      \"properties\": {\n        \"dtype\": \"number\",\n        \"std\": 22955.69297989083,\n        \"min\": 9.392253474241402,\n        \"max\": 64984.0,\n        \"num_unique_values\": 8,\n        \"samples\": [\n          65.68332657269481,\n          64.851,\n          64984.0\n        ],\n        \"semantic_type\": \"\",\n        \"description\": \"\"\n      }\n    }\n  ]\n}",
              "type": "dataframe"
            },
            "text/html": [
              "\n",
              "  <div id=\"df-16eb49a5-d2af-4796-a304-af7b8ddbf7e3\" class=\"colab-df-container\">\n",
              "    <div>\n",
              "<style scoped>\n",
              "    .dataframe tbody tr th:only-of-type {\n",
              "        vertical-align: middle;\n",
              "    }\n",
              "\n",
              "    .dataframe tbody tr th {\n",
              "        vertical-align: top;\n",
              "    }\n",
              "\n",
              "    .dataframe thead th {\n",
              "        text-align: right;\n",
              "    }\n",
              "</style>\n",
              "<table border=\"1\" class=\"dataframe\">\n",
              "  <thead>\n",
              "    <tr style=\"text-align: right;\">\n",
              "      <th></th>\n",
              "      <th>fuv_mag</th>\n",
              "      <th>nuv_mag</th>\n",
              "      <th>err</th>\n",
              "      <th>present</th>\n",
              "      <th>min_mag</th>\n",
              "      <th>max_mag</th>\n",
              "      <th>Corr</th>\n",
              "    </tr>\n",
              "  </thead>\n",
              "  <tbody>\n",
              "    <tr>\n",
              "      <th>count</th>\n",
              "      <td>64984.000000</td>\n",
              "      <td>64984.000000</td>\n",
              "      <td>64984.000000</td>\n",
              "      <td>64984.000000</td>\n",
              "      <td>64984.000000</td>\n",
              "      <td>64984.000000</td>\n",
              "      <td>64984.000000</td>\n",
              "    </tr>\n",
              "    <tr>\n",
              "      <th>mean</th>\n",
              "      <td>22.010826</td>\n",
              "      <td>17.405584</td>\n",
              "      <td>0.172427</td>\n",
              "      <td>0.101317</td>\n",
              "      <td>13.060289</td>\n",
              "      <td>9.788631</td>\n",
              "      <td>65.683327</td>\n",
              "    </tr>\n",
              "    <tr>\n",
              "      <th>std</th>\n",
              "      <td>1.792901</td>\n",
              "      <td>1.994348</td>\n",
              "      <td>0.171920</td>\n",
              "      <td>0.301751</td>\n",
              "      <td>1.630775</td>\n",
              "      <td>5.841919</td>\n",
              "      <td>9.392253</td>\n",
              "    </tr>\n",
              "    <tr>\n",
              "      <th>min</th>\n",
              "      <td>11.961000</td>\n",
              "      <td>11.226000</td>\n",
              "      <td>0.000000</td>\n",
              "      <td>0.000000</td>\n",
              "      <td>5.010000</td>\n",
              "      <td>0.001000</td>\n",
              "      <td>29.833000</td>\n",
              "    </tr>\n",
              "    <tr>\n",
              "      <th>25%</th>\n",
              "      <td>21.269000</td>\n",
              "      <td>16.086000</td>\n",
              "      <td>0.087932</td>\n",
              "      <td>0.000000</td>\n",
              "      <td>12.040000</td>\n",
              "      <td>0.740000</td>\n",
              "      <td>58.723750</td>\n",
              "    </tr>\n",
              "    <tr>\n",
              "      <th>50%</th>\n",
              "      <td>22.554000</td>\n",
              "      <td>17.098000</td>\n",
              "      <td>0.127092</td>\n",
              "      <td>0.000000</td>\n",
              "      <td>13.220000</td>\n",
              "      <td>12.640000</td>\n",
              "      <td>64.851000</td>\n",
              "    </tr>\n",
              "    <tr>\n",
              "      <th>75%</th>\n",
              "      <td>23.283000</td>\n",
              "      <td>18.435000</td>\n",
              "      <td>0.189799</td>\n",
              "      <td>0.000000</td>\n",
              "      <td>14.200000</td>\n",
              "      <td>13.870000</td>\n",
              "      <td>73.298250</td>\n",
              "    </tr>\n",
              "    <tr>\n",
              "      <th>max</th>\n",
              "      <td>24.849000</td>\n",
              "      <td>24.624000</td>\n",
              "      <td>3.639082</td>\n",
              "      <td>1.000000</td>\n",
              "      <td>19.600000</td>\n",
              "      <td>20.470000</td>\n",
              "      <td>86.950000</td>\n",
              "    </tr>\n",
              "  </tbody>\n",
              "</table>\n",
              "</div>\n",
              "    <div class=\"colab-df-buttons\">\n",
              "\n",
              "  <div class=\"colab-df-container\">\n",
              "    <button class=\"colab-df-convert\" onclick=\"convertToInteractive('df-16eb49a5-d2af-4796-a304-af7b8ddbf7e3')\"\n",
              "            title=\"Convert this dataframe to an interactive table.\"\n",
              "            style=\"display:none;\">\n",
              "\n",
              "  <svg xmlns=\"http://www.w3.org/2000/svg\" height=\"24px\" viewBox=\"0 -960 960 960\">\n",
              "    <path d=\"M120-120v-720h720v720H120Zm60-500h600v-160H180v160Zm220 220h160v-160H400v160Zm0 220h160v-160H400v160ZM180-400h160v-160H180v160Zm440 0h160v-160H620v160ZM180-180h160v-160H180v160Zm440 0h160v-160H620v160Z\"/>\n",
              "  </svg>\n",
              "    </button>\n",
              "\n",
              "  <style>\n",
              "    .colab-df-container {\n",
              "      display:flex;\n",
              "      gap: 12px;\n",
              "    }\n",
              "\n",
              "    .colab-df-convert {\n",
              "      background-color: #E8F0FE;\n",
              "      border: none;\n",
              "      border-radius: 50%;\n",
              "      cursor: pointer;\n",
              "      display: none;\n",
              "      fill: #1967D2;\n",
              "      height: 32px;\n",
              "      padding: 0 0 0 0;\n",
              "      width: 32px;\n",
              "    }\n",
              "\n",
              "    .colab-df-convert:hover {\n",
              "      background-color: #E2EBFA;\n",
              "      box-shadow: 0px 1px 2px rgba(60, 64, 67, 0.3), 0px 1px 3px 1px rgba(60, 64, 67, 0.15);\n",
              "      fill: #174EA6;\n",
              "    }\n",
              "\n",
              "    .colab-df-buttons div {\n",
              "      margin-bottom: 4px;\n",
              "    }\n",
              "\n",
              "    [theme=dark] .colab-df-convert {\n",
              "      background-color: #3B4455;\n",
              "      fill: #D2E3FC;\n",
              "    }\n",
              "\n",
              "    [theme=dark] .colab-df-convert:hover {\n",
              "      background-color: #434B5C;\n",
              "      box-shadow: 0px 1px 3px 1px rgba(0, 0, 0, 0.15);\n",
              "      filter: drop-shadow(0px 1px 2px rgba(0, 0, 0, 0.3));\n",
              "      fill: #FFFFFF;\n",
              "    }\n",
              "  </style>\n",
              "\n",
              "    <script>\n",
              "      const buttonEl =\n",
              "        document.querySelector('#df-16eb49a5-d2af-4796-a304-af7b8ddbf7e3 button.colab-df-convert');\n",
              "      buttonEl.style.display =\n",
              "        google.colab.kernel.accessAllowed ? 'block' : 'none';\n",
              "\n",
              "      async function convertToInteractive(key) {\n",
              "        const element = document.querySelector('#df-16eb49a5-d2af-4796-a304-af7b8ddbf7e3');\n",
              "        const dataTable =\n",
              "          await google.colab.kernel.invokeFunction('convertToInteractive',\n",
              "                                                    [key], {});\n",
              "        if (!dataTable) return;\n",
              "\n",
              "        const docLinkHtml = 'Like what you see? Visit the ' +\n",
              "          '<a target=\"_blank\" href=https://colab.research.google.com/notebooks/data_table.ipynb>data table notebook</a>'\n",
              "          + ' to learn more about interactive tables.';\n",
              "        element.innerHTML = '';\n",
              "        dataTable['output_type'] = 'display_data';\n",
              "        await google.colab.output.renderOutput(dataTable, element);\n",
              "        const docLink = document.createElement('div');\n",
              "        docLink.innerHTML = docLinkHtml;\n",
              "        element.appendChild(docLink);\n",
              "      }\n",
              "    </script>\n",
              "  </div>\n",
              "\n",
              "\n",
              "    <div id=\"df-9a0e149f-5af5-4ff4-b767-b671192f0f40\">\n",
              "      <button class=\"colab-df-quickchart\" onclick=\"quickchart('df-9a0e149f-5af5-4ff4-b767-b671192f0f40')\"\n",
              "                title=\"Suggest charts\"\n",
              "                style=\"display:none;\">\n",
              "\n",
              "<svg xmlns=\"http://www.w3.org/2000/svg\" height=\"24px\"viewBox=\"0 0 24 24\"\n",
              "     width=\"24px\">\n",
              "    <g>\n",
              "        <path d=\"M19 3H5c-1.1 0-2 .9-2 2v14c0 1.1.9 2 2 2h14c1.1 0 2-.9 2-2V5c0-1.1-.9-2-2-2zM9 17H7v-7h2v7zm4 0h-2V7h2v10zm4 0h-2v-4h2v4z\"/>\n",
              "    </g>\n",
              "</svg>\n",
              "      </button>\n",
              "\n",
              "<style>\n",
              "  .colab-df-quickchart {\n",
              "      --bg-color: #E8F0FE;\n",
              "      --fill-color: #1967D2;\n",
              "      --hover-bg-color: #E2EBFA;\n",
              "      --hover-fill-color: #174EA6;\n",
              "      --disabled-fill-color: #AAA;\n",
              "      --disabled-bg-color: #DDD;\n",
              "  }\n",
              "\n",
              "  [theme=dark] .colab-df-quickchart {\n",
              "      --bg-color: #3B4455;\n",
              "      --fill-color: #D2E3FC;\n",
              "      --hover-bg-color: #434B5C;\n",
              "      --hover-fill-color: #FFFFFF;\n",
              "      --disabled-bg-color: #3B4455;\n",
              "      --disabled-fill-color: #666;\n",
              "  }\n",
              "\n",
              "  .colab-df-quickchart {\n",
              "    background-color: var(--bg-color);\n",
              "    border: none;\n",
              "    border-radius: 50%;\n",
              "    cursor: pointer;\n",
              "    display: none;\n",
              "    fill: var(--fill-color);\n",
              "    height: 32px;\n",
              "    padding: 0;\n",
              "    width: 32px;\n",
              "  }\n",
              "\n",
              "  .colab-df-quickchart:hover {\n",
              "    background-color: var(--hover-bg-color);\n",
              "    box-shadow: 0 1px 2px rgba(60, 64, 67, 0.3), 0 1px 3px 1px rgba(60, 64, 67, 0.15);\n",
              "    fill: var(--button-hover-fill-color);\n",
              "  }\n",
              "\n",
              "  .colab-df-quickchart-complete:disabled,\n",
              "  .colab-df-quickchart-complete:disabled:hover {\n",
              "    background-color: var(--disabled-bg-color);\n",
              "    fill: var(--disabled-fill-color);\n",
              "    box-shadow: none;\n",
              "  }\n",
              "\n",
              "  .colab-df-spinner {\n",
              "    border: 2px solid var(--fill-color);\n",
              "    border-color: transparent;\n",
              "    border-bottom-color: var(--fill-color);\n",
              "    animation:\n",
              "      spin 1s steps(1) infinite;\n",
              "  }\n",
              "\n",
              "  @keyframes spin {\n",
              "    0% {\n",
              "      border-color: transparent;\n",
              "      border-bottom-color: var(--fill-color);\n",
              "      border-left-color: var(--fill-color);\n",
              "    }\n",
              "    20% {\n",
              "      border-color: transparent;\n",
              "      border-left-color: var(--fill-color);\n",
              "      border-top-color: var(--fill-color);\n",
              "    }\n",
              "    30% {\n",
              "      border-color: transparent;\n",
              "      border-left-color: var(--fill-color);\n",
              "      border-top-color: var(--fill-color);\n",
              "      border-right-color: var(--fill-color);\n",
              "    }\n",
              "    40% {\n",
              "      border-color: transparent;\n",
              "      border-right-color: var(--fill-color);\n",
              "      border-top-color: var(--fill-color);\n",
              "    }\n",
              "    60% {\n",
              "      border-color: transparent;\n",
              "      border-right-color: var(--fill-color);\n",
              "    }\n",
              "    80% {\n",
              "      border-color: transparent;\n",
              "      border-right-color: var(--fill-color);\n",
              "      border-bottom-color: var(--fill-color);\n",
              "    }\n",
              "    90% {\n",
              "      border-color: transparent;\n",
              "      border-bottom-color: var(--fill-color);\n",
              "    }\n",
              "  }\n",
              "</style>\n",
              "\n",
              "      <script>\n",
              "        async function quickchart(key) {\n",
              "          const quickchartButtonEl =\n",
              "            document.querySelector('#' + key + ' button');\n",
              "          quickchartButtonEl.disabled = true;  // To prevent multiple clicks.\n",
              "          quickchartButtonEl.classList.add('colab-df-spinner');\n",
              "          try {\n",
              "            const charts = await google.colab.kernel.invokeFunction(\n",
              "                'suggestCharts', [key], {});\n",
              "          } catch (error) {\n",
              "            console.error('Error during call to suggestCharts:', error);\n",
              "          }\n",
              "          quickchartButtonEl.classList.remove('colab-df-spinner');\n",
              "          quickchartButtonEl.classList.add('colab-df-quickchart-complete');\n",
              "        }\n",
              "        (() => {\n",
              "          let quickchartButtonEl =\n",
              "            document.querySelector('#df-9a0e149f-5af5-4ff4-b767-b671192f0f40 button');\n",
              "          quickchartButtonEl.style.display =\n",
              "            google.colab.kernel.accessAllowed ? 'block' : 'none';\n",
              "        })();\n",
              "      </script>\n",
              "    </div>\n",
              "    </div>\n",
              "  </div>\n"
            ],
            "text/plain": [
              "            fuv_mag       nuv_mag           err       present       min_mag  \\\n",
              "count  64984.000000  64984.000000  64984.000000  64984.000000  64984.000000   \n",
              "mean      22.010826     17.405584      0.172427      0.101317     13.060289   \n",
              "std        1.792901      1.994348      0.171920      0.301751      1.630775   \n",
              "min       11.961000     11.226000      0.000000      0.000000      5.010000   \n",
              "25%       21.269000     16.086000      0.087932      0.000000     12.040000   \n",
              "50%       22.554000     17.098000      0.127092      0.000000     13.220000   \n",
              "75%       23.283000     18.435000      0.189799      0.000000     14.200000   \n",
              "max       24.849000     24.624000      3.639082      1.000000     19.600000   \n",
              "\n",
              "            max_mag          Corr  \n",
              "count  64984.000000  64984.000000  \n",
              "mean       9.788631     65.683327  \n",
              "std        5.841919      9.392253  \n",
              "min        0.001000     29.833000  \n",
              "25%        0.740000     58.723750  \n",
              "50%       12.640000     64.851000  \n",
              "75%       13.870000     73.298250  \n",
              "max       20.470000     86.950000  "
            ]
          },
          "metadata": {},
          "output_type": "display_data"
        }
      ],
      "source": [
        "display(data.info())\n",
        "display(data.describe())"
      ]
    },
    {
      "cell_type": "markdown",
      "metadata": {
        "id": "O_my5QIFdzei"
      },
      "source": [
        "# Hold-out\n",
        "Прежде чем применять преобразования, которые могут вызвать Data Leakage, разделим выборку на обучающую и тестовую. Решим проблему дисбаланса классов, применив OverSampling к минорному классу."
      ]
    },
    {
      "cell_type": "code",
      "execution_count": 57,
      "metadata": {
        "id": "aGSitg7GLgQZ"
      },
      "outputs": [],
      "source": [
        "from sklearn.model_selection import train_test_split\n",
        "\n",
        "X_train, X_test, y_train, y_test = train_test_split(\n",
        "    data.drop(columns=[\"present\"]), data[\"present\"], test_size=0.3, random_state=42)"
      ]
    },
    {
      "cell_type": "markdown",
      "metadata": {
        "id": "6hubRSIGAlpR"
      },
      "source": [
        "# Поиск аномалий\n",
        "Посмотрим на отклонения значений признаков и отыщим аномалии\n",
        "## К сожалению, удаление аномальных значений приводит к ухудшению работы классификатора"
      ]
    },
    {
      "cell_type": "code",
      "execution_count": 27,
      "metadata": {
        "colab": {
          "base_uri": "https://localhost:8080/",
          "height": 308
        },
        "id": "sS6cDASeAmX5",
        "outputId": "b4c6a573-c2d7-479a-fc50-9fb512a8b235"
      },
      "outputs": [
        {
          "data": {
            "text/html": [
              "<div>\n",
              "<style scoped>\n",
              "    .dataframe tbody tr th:only-of-type {\n",
              "        vertical-align: middle;\n",
              "    }\n",
              "\n",
              "    .dataframe tbody tr th {\n",
              "        vertical-align: top;\n",
              "    }\n",
              "\n",
              "    .dataframe thead th {\n",
              "        text-align: right;\n",
              "    }\n",
              "</style>\n",
              "<table border=\"1\" class=\"dataframe\">\n",
              "  <thead>\n",
              "    <tr style=\"text-align: right;\">\n",
              "      <th></th>\n",
              "      <th>count</th>\n",
              "    </tr>\n",
              "    <tr>\n",
              "      <th>present</th>\n",
              "      <th></th>\n",
              "    </tr>\n",
              "  </thead>\n",
              "  <tbody>\n",
              "    <tr>\n",
              "      <th>0</th>\n",
              "      <td>26</td>\n",
              "    </tr>\n",
              "  </tbody>\n",
              "</table>\n",
              "</div><br><label><b>dtype:</b> int64</label>"
            ],
            "text/plain": [
              "present\n",
              "0    26\n",
              "Name: count, dtype: int64"
            ]
          },
          "metadata": {},
          "output_type": "display_data"
        },
        {
          "data": {
            "text/html": [
              "<div>\n",
              "<style scoped>\n",
              "    .dataframe tbody tr th:only-of-type {\n",
              "        vertical-align: middle;\n",
              "    }\n",
              "\n",
              "    .dataframe tbody tr th {\n",
              "        vertical-align: top;\n",
              "    }\n",
              "\n",
              "    .dataframe thead th {\n",
              "        text-align: right;\n",
              "    }\n",
              "</style>\n",
              "<table border=\"1\" class=\"dataframe\">\n",
              "  <thead>\n",
              "    <tr style=\"text-align: right;\">\n",
              "      <th></th>\n",
              "      <th>count</th>\n",
              "    </tr>\n",
              "    <tr>\n",
              "      <th>present</th>\n",
              "      <th></th>\n",
              "    </tr>\n",
              "  </thead>\n",
              "  <tbody>\n",
              "    <tr>\n",
              "      <th>0</th>\n",
              "      <td>40805</td>\n",
              "    </tr>\n",
              "    <tr>\n",
              "      <th>1</th>\n",
              "      <td>4657</td>\n",
              "    </tr>\n",
              "  </tbody>\n",
              "</table>\n",
              "</div><br><label><b>dtype:</b> int64</label>"
            ],
            "text/plain": [
              "present\n",
              "0    40805\n",
              "1     4657\n",
              "Name: count, dtype: int64"
            ]
          },
          "metadata": {},
          "output_type": "display_data"
        }
      ],
      "source": [
        "import numpy as np\n",
        "\n",
        "def find_anomalies(X, y, columns):\n",
        "  to_remove =[]\n",
        "\n",
        "  for column in columns:\n",
        "    for label in {0}:\n",
        "      # print(f\"Current column: {column}, label: {label}\")\n",
        "\n",
        "      Q1 = np.percentile(X.loc[y == label][column], 25, axis=0)\n",
        "      Q3 = np.percentile(X.loc[y == label][column], 75, axis=0)\n",
        "      IQR = Q3 - Q1\n",
        "\n",
        "      lower_bound = Q1 - 1.5 * IQR\n",
        "      upper_bound = Q3 + 1.5 * IQR\n",
        "\n",
        "      column_anomalies = X.loc[y == label].loc[(X[column] < lower_bound) | (X[column] > upper_bound)].index\n",
        "      to_remove.extend(column_anomalies)\n",
        "\n",
        "  to_remove = np.unique(to_remove)\n",
        "  return to_remove\n",
        "\n",
        "anomalies = find_anomalies(X_train, y_train, [\"Corr\"])\n",
        "display(y_train.loc[anomalies].value_counts())\n",
        "X_train = X_train.drop(anomalies)\n",
        "y_train = y_train.drop(anomalies)\n",
        "display(y_train.value_counts())"
      ]
    },
    {
      "cell_type": "markdown",
      "metadata": {
        "id": "Pe6B8oZrbc6g"
      },
      "source": [
        "# Scaling\n",
        "Масштабирование прзинаков для используемых нами алгоритмов (Gradient Boost, Random Forest) практически не имеет смысла, т.к. разделения на деревьях будут те же, просто с другим масштабом. Также примение скэлирование в нашей задаче, к сожалению, не дало лучшего результата"
      ]
    },
    {
      "cell_type": "markdown",
      "metadata": {
        "id": "mMQOiOVBG5Tn"
      },
      "source": [
        "# Oversampling\n",
        "Решим проблемы дисбаланса классов, добавив синтетические данные в минорный класс."
      ]
    },
    {
      "cell_type": "code",
      "execution_count": 58,
      "metadata": {
        "colab": {
          "base_uri": "https://localhost:8080/",
          "height": 339
        },
        "id": "463jLL-tG7JN",
        "outputId": "fdda31e3-6258-4cb1-fd27-55a69555088b"
      },
      "outputs": [
        {
          "data": {
            "text/html": [
              "<div>\n",
              "<style scoped>\n",
              "    .dataframe tbody tr th:only-of-type {\n",
              "        vertical-align: middle;\n",
              "    }\n",
              "\n",
              "    .dataframe tbody tr th {\n",
              "        vertical-align: top;\n",
              "    }\n",
              "\n",
              "    .dataframe thead th {\n",
              "        text-align: right;\n",
              "    }\n",
              "</style>\n",
              "<table border=\"1\" class=\"dataframe\">\n",
              "  <thead>\n",
              "    <tr style=\"text-align: right;\">\n",
              "      <th></th>\n",
              "      <th>count</th>\n",
              "    </tr>\n",
              "    <tr>\n",
              "      <th>present</th>\n",
              "      <th></th>\n",
              "    </tr>\n",
              "  </thead>\n",
              "  <tbody>\n",
              "    <tr>\n",
              "      <th>0</th>\n",
              "      <td>58400</td>\n",
              "    </tr>\n",
              "    <tr>\n",
              "      <th>1</th>\n",
              "      <td>6584</td>\n",
              "    </tr>\n",
              "  </tbody>\n",
              "</table>\n",
              "</div><br><label><b>dtype:</b> int64</label>"
            ],
            "text/plain": [
              "present\n",
              "0    58400\n",
              "1     6584\n",
              "Name: count, dtype: int64"
            ]
          },
          "metadata": {},
          "output_type": "display_data"
        },
        {
          "data": {
            "text/html": [
              "<div>\n",
              "<style scoped>\n",
              "    .dataframe tbody tr th:only-of-type {\n",
              "        vertical-align: middle;\n",
              "    }\n",
              "\n",
              "    .dataframe tbody tr th {\n",
              "        vertical-align: top;\n",
              "    }\n",
              "\n",
              "    .dataframe thead th {\n",
              "        text-align: right;\n",
              "    }\n",
              "</style>\n",
              "<table border=\"1\" class=\"dataframe\">\n",
              "  <thead>\n",
              "    <tr style=\"text-align: right;\">\n",
              "      <th></th>\n",
              "      <th>count</th>\n",
              "    </tr>\n",
              "    <tr>\n",
              "      <th>present</th>\n",
              "      <th></th>\n",
              "    </tr>\n",
              "  </thead>\n",
              "  <tbody>\n",
              "    <tr>\n",
              "      <th>0</th>\n",
              "      <td>40831</td>\n",
              "    </tr>\n",
              "    <tr>\n",
              "      <th>1</th>\n",
              "      <td>20170</td>\n",
              "    </tr>\n",
              "  </tbody>\n",
              "</table>\n",
              "</div><br><label><b>dtype:</b> int64</label>"
            ],
            "text/plain": [
              "present\n",
              "0    40831\n",
              "1    20170\n",
              "Name: count, dtype: int64"
            ]
          },
          "metadata": {},
          "output_type": "display_data"
        }
      ],
      "source": [
        "from sklearn.model_selection import train_test_split\n",
        "from imblearn.over_sampling import SMOTE, ADASYN\n",
        "\n",
        "# Oversampling\n",
        "smote = ADASYN(random_state=42, sampling_strategy=0.5)\n",
        "\n",
        "display(data.present.value_counts())\n",
        "X_train, y_train = smote.fit_resample(X_train, y_train)\n",
        "display(y_train.value_counts())"
      ]
    },
    {
      "cell_type": "markdown",
      "metadata": {
        "id": "Mt246iVUOwu3"
      },
      "source": [
        "# Gradient boosting\n",
        "Для классификации будем использовать градиентный бустинг"
      ]
    },
    {
      "cell_type": "code",
      "execution_count": 59,
      "metadata": {
        "execution": {
          "iopub.execute_input": "2025-05-01T12:18:39.765134Z",
          "iopub.status.busy": "2025-05-01T12:18:39.764806Z",
          "iopub.status.idle": "2025-05-01T12:18:45.257217Z",
          "shell.execute_reply": "2025-05-01T12:18:45.256524Z",
          "shell.execute_reply.started": "2025-05-01T12:18:39.765112Z"
        },
        "id": "07qfOOjqOwu3",
        "trusted": true
      },
      "outputs": [],
      "source": [
        "from sklearn.ensemble import GradientBoostingClassifier\n",
        "\n",
        "# Test data with oversampling\n",
        "\n",
        "clf = GradientBoostingClassifier(n_estimators=1000, learning_rate=1.,\n",
        "    max_depth=3, random_state=42)\n",
        "clf.fit(X_train, y_train)\n",
        "y_pred = clf.predict(X_test)\n"
      ]
    },
    {
      "cell_type": "code",
      "execution_count": 60,
      "metadata": {
        "colab": {
          "base_uri": "https://localhost:8080/",
          "height": 128
        },
        "id": "wTG7t39eOOA0",
        "outputId": "62338098-6f7d-4a0c-a52b-cbcfce0319e4"
      },
      "outputs": [
        {
          "data": {
            "text/plain": [
              "array([[16241,  1328],\n",
              "       [  325,  1602]])"
            ]
          },
          "metadata": {},
          "output_type": "display_data"
        },
        {
          "data": {
            "text/plain": [
              "0.9152133771029954"
            ]
          },
          "metadata": {},
          "output_type": "display_data"
        },
        {
          "data": {
            "text/plain": [
              "0.5467576791808874"
            ]
          },
          "metadata": {},
          "output_type": "display_data"
        },
        {
          "data": {
            "text/plain": [
              "0.8313440581214323"
            ]
          },
          "metadata": {},
          "output_type": "display_data"
        },
        {
          "data": {
            "text/plain": [
              "0.6596664607782582"
            ]
          },
          "metadata": {},
          "output_type": "display_data"
        }
      ],
      "source": [
        "from sklearn.metrics import f1_score, accuracy_score, recall_score, precision_score\n",
        "from sklearn.metrics import confusion_matrix\n",
        "\n",
        "display(confusion_matrix(y_test, y_pred))\n",
        "display(accuracy_score(y_test, y_pred))\n",
        "display(precision_score(y_test, y_pred))\n",
        "display(recall_score(y_test, y_pred))\n",
        "display(f1_score(y_test, y_pred))"
      ]
    },
    {
      "cell_type": "markdown",
      "metadata": {
        "id": "1YHt9A-BYzDT"
      },
      "source": [
        "# Random Forest\n",
        "Попробуем также использовать случайный лес. Заметим мгновенное улучшение по сравнению с градиентным бустингом.\n",
        "\n",
        "Возможно данный результат связан с тем, что алгоритм случайного леса начинается с бутстрэпа (bootstrap), который частично решает проблему дисбаланса классов.\n",
        "\n",
        "Также есть вероятность того, что алгоритм обучился на самом хуже, т.к. стал больше угадывать экземпляры мажорирующего класса. Из-за большого дисбаланса классов плохо обученный алгоритм может показаться хорошим."
      ]
    },
    {
      "cell_type": "code",
      "execution_count": 63,
      "metadata": {
        "id": "qycp2lxaY4dl"
      },
      "outputs": [],
      "source": [
        "from sklearn.ensemble import RandomForestClassifier\n",
        "\n",
        "rf_clf = RandomForestClassifier(n_estimators=1000, random_state=42)\n",
        "rf_clf.fit(X_train, y_train)\n",
        "y_pred = rf_clf.predict(X_test)"
      ]
    },
    {
      "cell_type": "code",
      "execution_count": 64,
      "metadata": {
        "colab": {
          "base_uri": "https://localhost:8080/",
          "height": 128
        },
        "id": "iNW2QLAxZJeI",
        "outputId": "d01804f9-3535-431c-f2ef-1bf0faa1ac92"
      },
      "outputs": [
        {
          "data": {
            "text/plain": [
              "array([[16754,   815],\n",
              "       [  391,  1536]])"
            ]
          },
          "metadata": {},
          "output_type": "display_data"
        },
        {
          "data": {
            "text/plain": [
              "0.9381411571604432"
            ]
          },
          "metadata": {},
          "output_type": "display_data"
        },
        {
          "data": {
            "text/plain": [
              "0.6533390046788601"
            ]
          },
          "metadata": {},
          "output_type": "display_data"
        },
        {
          "data": {
            "text/plain": [
              "0.7970939283860924"
            ]
          },
          "metadata": {},
          "output_type": "display_data"
        },
        {
          "data": {
            "text/plain": [
              "0.7180925666199158"
            ]
          },
          "metadata": {},
          "output_type": "display_data"
        }
      ],
      "source": [
        "display(confusion_matrix(y_test, y_pred))\n",
        "display(accuracy_score(y_test, y_pred))\n",
        "display(precision_score(y_test, y_pred))\n",
        "display(recall_score(y_test, y_pred))\n",
        "display(f1_score(y_test, y_pred))"
      ]
    },
    {
      "cell_type": "markdown",
      "metadata": {},
      "source": [
        "# Выводы\n",
        "Итак, мы удалили признаки, которые никак не связаны с типом звезды\n",
        "\n",
        "Далее мы добавили новый признак, являющийся суммой скоррелированных признаков. Закомментированными в ячейка с добавлением признаком являются другие попытки найти осмысленные признаки. Однако данные попытки приводили к очень большому ухудшению итоговой модели (F1-Score опускался до 0.5). К таким же плохим результатам приводила попытка борьбы с аномалиями, несмотря на то, что удалялись аномалии только в мажорирующем классе, чтобы хоть как-то снзиить дизбаланс\n",
        "\n",
        "Для борьбы с дисбалансом был применён Oversampling, потому что Undersampling показал себя хуже.\n",
        "\n",
        "После этого были обучены две модели, лучшей из которых оказался случайный лес, получивший `F1-Score: 0.7180925666199158`."
      ]
    },
    {
      "cell_type": "markdown",
      "metadata": {},
      "source": [
        "#"
      ]
    },
    {
      "cell_type": "markdown",
      "metadata": {},
      "source": [
        "# "
      ]
    }
  ],
  "metadata": {
    "colab": {
      "provenance": []
    },
    "kaggle": {
      "accelerator": "none",
      "dataSources": [
        {
          "datasetId": 6855119,
          "sourceId": 11010538,
          "sourceType": "datasetVersion"
        }
      ],
      "dockerImageVersionId": 31012,
      "isGpuEnabled": false,
      "isInternetEnabled": true,
      "language": "python",
      "sourceType": "notebook"
    },
    "kernelspec": {
      "display_name": "Python 3",
      "language": "python",
      "name": "python3"
    },
    "language_info": {
      "codemirror_mode": {
        "name": "ipython",
        "version": 3
      },
      "file_extension": ".py",
      "mimetype": "text/x-python",
      "name": "python",
      "nbconvert_exporter": "python",
      "pygments_lexer": "ipython3",
      "version": "3.11.11"
    }
  },
  "nbformat": 4,
  "nbformat_minor": 0
}
